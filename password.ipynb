{
  "cells": [
    {
      "cell_type": "markdown",
      "metadata": {
        "colab_type": "text",
        "id": "view-in-github"
      },
      "source": [
        "<a href=\"https://colab.research.google.com/github/poiuyytee/OIBSIP-python/blob/main/Untitled9.ipynb\" target=\"_parent\"><img src=\"https://colab.research.google.com/assets/colab-badge.svg\" alt=\"Open In Colab\"/></a>"
      ]
    },
    {
      "cell_type": "code",
      "execution_count": 1,
      "metadata": {
        "colab": {
          "base_uri": "https://localhost:8080/"
        },
        "id": "GjjvtT0uJpPQ",
        "outputId": "35fbf368-d8ba-4454-c3a7-6b52c5456872"
      },
      "outputs": [
        {
          "name": "stdout",
          "output_type": "stream",
          "text": [
            "Invalid input. Using default password length of 12.\n",
            "Generated Password: $pU_dD@\\uZpy\n"
          ]
        }
      ],
      "source": [
        "import random\n",
        "import string\n",
        "\n",
        "def generate_password(length=12):\n",
        "    \"\"\"Generate a random password.\n",
        "\n",
        "    Args:\n",
        "        length (int): Length of the password. Defaults to 12.\n",
        "\n",
        "    Returns:\n",
        "        str: The generated password.\n",
        "    \"\"\"\n",
        "    characters = string.ascii_letters + string.digits + string.punctuation\n",
        "    password = ''.join(random.choice(characters) for _ in range(length))\n",
        "    return password\n",
        "\n",
        "def main():\n",
        "    \"\"\"Main function to generate and display a password.\"\"\"\n",
        "    try:\n",
        "        password_length = int(input(\"Enter the length of the password (default is 12): \"))\n",
        "        if password_length <= 0:\n",
        "            raise ValueError(\"Password length should be a positive integer.\")\n",
        "    except ValueError:\n",
        "        print(\"Invalid input. Using default password length of 12.\")\n",
        "        password_length = 12\n",
        "\n",
        "    generated_password = generate_password(password_length)\n",
        "    print(\"Generated Password:\", generated_password)\n",
        "\n",
        "if __name__ == \"__main__\":\n",
        "    main()\n"
      ]
    }
  ],
  "metadata": {
    "colab": {
      "authorship_tag": "ABX9TyOlKLSvb4g3wbirUerajTBp",
      "include_colab_link": true,
      "provenance": []
    },
    "kernelspec": {
      "display_name": "Python 3",
      "name": "python3"
    },
    "language_info": {
      "codemirror_mode": {
        "name": "ipython",
        "version": 3
      },
      "file_extension": ".py",
      "mimetype": "text/x-python",
      "name": "python",
      "nbconvert_exporter": "python",
      "pygments_lexer": "ipython3",
      "version": "3.11.9"
    }
  },
  "nbformat": 4,
  "nbformat_minor": 0
}
